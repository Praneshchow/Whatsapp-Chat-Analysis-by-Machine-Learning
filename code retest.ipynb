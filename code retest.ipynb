{
 "cells": [
  {
   "cell_type": "code",
   "execution_count": 1,
   "id": "d6b118ea-4ba9-4877-8e90-20319daa0e6e",
   "metadata": {},
   "outputs": [],
   "source": [
    "import re\n",
    "import pandas as pd"
   ]
  },
  {
   "cell_type": "code",
   "execution_count": 2,
   "id": "9cbcb180-e429-4fc1-95bd-ccbdd74a2e24",
   "metadata": {},
   "outputs": [],
   "source": [
    "f = open('WhatsApp Chat with Discussion.txt', 'r', encoding='utf-8')"
   ]
  },
  {
   "cell_type": "code",
   "execution_count": 3,
   "id": "52b88a18-e389-420a-9d4b-763348c8d258",
   "metadata": {},
   "outputs": [],
   "source": [
    "data = f.read()"
   ]
  },
  {
   "cell_type": "code",
   "execution_count": 4,
   "id": "bd939447-8e48-42ee-ac4f-0ecd1e69007b",
   "metadata": {
    "scrolled": true
   },
   "outputs": [
    {
     "name": "stdout",
     "output_type": "stream",
     "text": [
      "12/30/23, 22:05 - Messages and calls are end-to-end encrypted. No one outside of this chat, not even WhatsApp, can read or listen to them. Tap to learn more.\n",
      "12/30/23, 22:05 - You created group \"Discussion\"\n",
      "12/30/23, 22:06 - Pranesh Chowdhury: Hi, How are you?\n",
      "12/30/23, 22:07 - Pranesh Chowdhury: I am trying to make a message dataset for our python project.\n",
      "12/30/23, 22:08 - Pranesh Chowdhury: Please message in english. Because our analysis work on the English language.\n",
      "12/30/23, 22:09 - Pranesh Chowdhury: Continue it.\n",
      "12/30/23, 22:09 - Pranesh Chowdhury: ☺️\n",
      "12/30/23, 22:12 - Pranesh Chowdhury: I am doing a python project. So I need your help to create this chats.\n",
      "12/30/23, 22:13 - Pranesh Chowdhury: I want to analyze the exported chat files.\n",
      "12/30/23, 22:18 - You added Ayaz EDU\n",
      "12/30/23, 22:18 - Pranesh Chowdhury: Hello ayaz.\n",
      "12/30/23, 22:19 - Ayaz EDU: Yo what's up\n",
      "12/30/23, 22:19 - Pranesh Chowdhury: Fine, Thanks for coming here.\n",
      "12/30/23, 22:19 - Ayaz EDU: Welcome bro\n",
      "12/30/23, 22:20 - Pranesh Chowdhury: I just need to make a group file of 20 to 30 chats.\n",
      "12/30/23, 22:20 - Ayaz EDU: How is your python projects going\n",
      "12/30/23, 22:20 - Ayaz EDU: Ok ok\n",
      "12/30/23, 22:20 - Pranesh Chowdhury: pretty good.\n",
      "12/30/23, 22:21 - Ayaz EDU: Here is nabo da\n",
      "12/30/23, 22:21 - Pranesh Chowdhury: If I am not mistake you are grouped with tanvir.\n",
      "12/30/23, 22:21 - Ayaz EDU: Yeap\n",
      "12/30/23, 22:21 - Pranesh Chowdhury: Nobo is busy now 😅\n",
      "12/30/23, 22:21 - Ayaz EDU: Now revising the codes\n",
      "12/30/23, 22:22 - Pranesh Chowdhury: seems like he is enjoying\n",
      "12/30/23, 22:22 - Ayaz EDU: Who nabo?\n",
      "12/30/23, 22:22 - Pranesh Chowdhury: He will join after he complete his work.\n",
      "12/30/23, 22:23 - Pranesh Chowdhury: a famous edu student.\n",
      "12/30/23, 22:23 - Pranesh Chowdhury: when he comes we all laugh. that's the man is nobo.\n",
      "12/30/23, 22:23 - Pranesh Chowdhury: 😂\n",
      "12/30/23, 22:24 - Ayaz EDU: Yeap always get 4. But act like he is dumer then us\n",
      "12/30/23, 22:24 - Ayaz EDU: Toxic nabo\n",
      "12/30/23, 22:24 - Pranesh Chowdhury: Yeah, man.\n",
      "12/30/23, 22:24 - Pranesh Chowdhury: 😂\n",
      "12/30/23, 22:25 - Ayaz EDU: Im also doing our favorite jamil sir assignment\n",
      "12/30/23, 22:25 - Pranesh Chowdhury: now express how much anger you have\n",
      "12/30/23, 22:25 - Pranesh Chowdhury: 😅\n",
      "12/30/23, 22:26 - Pranesh Chowdhury: I did the code assignment.\n",
      "12/30/23, 22:26 - Pranesh Chowdhury: Is that code assignment or written ?\n",
      "12/30/23, 22:26 - Ayaz EDU: He gave us two assignments\n",
      "12/30/23, 22:26 - Ayaz EDU: Coding and writing\n",
      "12/30/23, 22:27 - Pranesh Chowdhury: Yes. Right now which one you are doing?\n",
      "12/30/23, 22:27 - Ayaz EDU: Today is the last day for submitting coding assignment\n",
      "12/30/23, 22:27 - Ayaz EDU: Writing\n",
      "12/30/23, 22:27 - Ayaz EDU: Tomorrow is last date for writing assignment\n",
      "12/30/23, 22:27 - Pranesh Chowdhury: Yes, I did both of the assignment.\n",
      "12/30/23, 22:27 - Ayaz EDU: Lot of questions\n",
      "12/30/23, 22:27 - Pranesh Chowdhury: did you completed that ?\n",
      "12/30/23, 22:27 - Ayaz EDU: Too many theory\n",
      "12/30/23, 22:27 - Ayaz EDU: No\n",
      "12/30/23, 22:28 - Pranesh Chowdhury: yes, it takes time\n",
      "12/30/23, 22:28 - Ayaz EDU: I only did the math\n",
      "12/30/23, 22:28 - Ayaz EDU: Didn't touch the theory\n",
      "12/30/23, 22:28 - Pranesh Chowdhury: Oh, sorry I am disturbing you.\n",
      "12/30/23, 22:28 - Ayaz EDU: Bro download any game\n",
      "12/30/23, 22:29 - Ayaz EDU: Its okay\n",
      "12/30/23, 22:29 - Ayaz EDU: Which one should be better for playing together\n",
      "12/30/23, 22:29 - Pranesh Chowdhury: thanks for helping me to create a discussion file.\n",
      "12/30/23, 22:30 - Ayaz EDU: Im downloading cyberpunk\n",
      "12/30/23, 22:30 - Pranesh Chowdhury: which game?\n",
      "12/30/23, 22:30 - Ayaz EDU: null\n",
      "12/30/23, 22:31 - Pranesh Chowdhury: brother download the \"pika super wallpaper\". It has beautiful themes.\n",
      "12/30/23, 22:31 - Pranesh Chowdhury: when you charging your mobile it sounds based on your wallpaper.\n",
      "12/30/23, 22:31 - Ayaz EDU: Okay\n",
      "12/30/23, 22:32 - Ayaz EDU: Let me see\n",
      "12/30/23, 22:32 - Pranesh Chowdhury: ok, bro.\n",
      "12/30/23, 22:32 - Pranesh Chowdhury: Have a good day.\n",
      "12/30/23, 22:34 - Ayaz EDU: You, too\n",
      "\n"
     ]
    }
   ],
   "source": [
    "print(data)"
   ]
  },
  {
   "cell_type": "code",
   "execution_count": 8,
   "id": "93419b86-19b0-4fac-bb6f-36dba4b44442",
   "metadata": {},
   "outputs": [],
   "source": [
    "pattern = r'\\d{1,2}/\\d{1,2}/\\d{2,4},\\s\\d{1,2}:\\d{2}\\s-\\s'"
   ]
  },
  {
   "cell_type": "code",
   "execution_count": 9,
   "id": "992d62dc-e3db-459c-b535-60b9cff66e98",
   "metadata": {},
   "outputs": [
    {
     "name": "stderr",
     "output_type": "stream",
     "text": [
      "<>:15: SyntaxWarning: invalid escape sequence '\\w'\n",
      "<>:15: SyntaxWarning: invalid escape sequence '\\w'\n",
      "C:\\Users\\Acer\\AppData\\Local\\Temp\\ipykernel_5660\\87005748.py:15: SyntaxWarning: invalid escape sequence '\\w'\n",
      "  entry = re.split('([\\w\\W]+?):\\s', message)\n"
     ]
    }
   ],
   "source": [
    "\n",
    "\n",
    "messages = re.split(pattern, data)[1:]\n",
    "dates = re.findall(pattern, data)\n",
    "\n",
    "df = pd.DataFrame({'user_message': messages, 'message_date': dates})\n",
    "# convert message_date type\n",
    "    # df['message_date'] = pd.to_datetime(df['message_date'], format='%d/%m/%Y, %H:%M - ')\n",
    "df['message_date'] = pd.to_datetime(df['message_date'], format='%m/%d/%y, %H:%M - ', errors='coerce')\n",
    "\n",
    "\n",
    "df.rename(columns={'message_date': 'date'}, inplace=True)\n",
    "\n",
    "users = []\n",
    "messages = []\n",
    "for message in df['user_message']:\n",
    "    entry = re.split('([\\w\\W]+?):\\s', message)\n",
    "    if entry[1:]:  # user name\n",
    "        users.append(entry[1])\n",
    "        messages.append(\" \".join(entry[2:]))\n",
    "    else:\n",
    "        users.append('group_notification')\n",
    "        messages.append(entry[0])\n",
    "\n",
    "df['user'] = users\n",
    "df['message'] = messages\n",
    "df.drop(columns=['user_message'], inplace=True)\n",
    "\n",
    "df['only_date'] = df['date'].dt.date\n",
    "df['year'] = df['date'].dt.year\n",
    "df['month_num'] = df['date'].dt.month\n",
    "df['month'] = df['date'].dt.month_name()\n",
    "df['day'] = df['date'].dt.day\n",
    "df['day_name'] = df['date'].dt.day_name()\n",
    "df['hour'] = df['date'].dt.hour\n",
    "df['minute'] = df['date'].dt.minute\n",
    "\n",
    "period = []\n",
    "for hour in df[['day_name', 'hour']]['hour']:\n",
    "    if hour == 23:\n",
    "        period.append(str(hour) + \"-\" + str('00'))\n",
    "    elif hour == 0:\n",
    "        period.append(str('00') + \"-\" + str(hour + 1))\n",
    "    else:\n",
    "        period.append(str(hour) + \"-\" + str(hour + 1))\n",
    "\n",
    "df['period'] = period"
   ]
  },
  {
   "cell_type": "code",
   "execution_count": null,
   "id": "0ced4b56-eaca-463c-97a9-96d023022d57",
   "metadata": {},
   "outputs": [],
   "source": []
  }
 ],
 "metadata": {
  "kernelspec": {
   "display_name": "Python 3 (ipykernel)",
   "language": "python",
   "name": "python3"
  },
  "language_info": {
   "codemirror_mode": {
    "name": "ipython",
    "version": 3
   },
   "file_extension": ".py",
   "mimetype": "text/x-python",
   "name": "python",
   "nbconvert_exporter": "python",
   "pygments_lexer": "ipython3",
   "version": "3.12.0"
  }
 },
 "nbformat": 4,
 "nbformat_minor": 5
}
