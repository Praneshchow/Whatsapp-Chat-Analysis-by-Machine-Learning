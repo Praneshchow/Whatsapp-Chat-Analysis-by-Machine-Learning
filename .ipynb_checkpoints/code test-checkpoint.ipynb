{
 "cells": [
  {
   "cell_type": "markdown",
   "id": "4e899cac",
   "metadata": {},
   "source": [
    "Preprocessing"
   ]
  },
  {
   "cell_type": "code",
   "execution_count": 1,
   "id": "4436e989-8d25-4eea-822e-6de23db1219e",
   "metadata": {
    "scrolled": true
   },
   "outputs": [],
   "source": [
    "import re\n",
    "import pandas as pd"
   ]
  },
  {
   "cell_type": "code",
   "execution_count": 11,
   "id": "43ece231-0854-40cb-b66a-41611da3497c",
   "metadata": {},
   "outputs": [
    {
     "ename": "FileNotFoundError",
     "evalue": "[Errno 2] No such file or directory: 'chat\\\\WhatsApp Chat with Discussion.txt'",
     "output_type": "error",
     "traceback": [
      "\u001b[1;31m---------------------------------------------------------------------------\u001b[0m",
      "\u001b[1;31mFileNotFoundError\u001b[0m                         Traceback (most recent call last)",
      "Cell \u001b[1;32mIn[11], line 1\u001b[0m\n\u001b[1;32m----> 1\u001b[0m f \u001b[38;5;241m=\u001b[39m \u001b[38;5;28;43mopen\u001b[39;49m\u001b[43m(\u001b[49m\u001b[38;5;124;43m'\u001b[39;49m\u001b[38;5;124;43mchat\u001b[39;49m\u001b[38;5;130;43;01m\\\\\u001b[39;49;00m\u001b[38;5;124;43mWhatsApp Chat with Discussion.txt\u001b[39;49m\u001b[38;5;124;43m'\u001b[39;49m\u001b[43m,\u001b[49m\u001b[43m \u001b[49m\u001b[38;5;124;43m'\u001b[39;49m\u001b[38;5;124;43mr\u001b[39;49m\u001b[38;5;124;43m'\u001b[39;49m\u001b[43m,\u001b[49m\u001b[43m \u001b[49m\u001b[43mencoding\u001b[49m\u001b[38;5;241;43m=\u001b[39;49m\u001b[38;5;124;43m'\u001b[39;49m\u001b[38;5;124;43mutf-8\u001b[39;49m\u001b[38;5;124;43m'\u001b[39;49m\u001b[43m)\u001b[49m\n",
      "File \u001b[1;32mC:\\Python 3.10.12\\Lib\\site-packages\\IPython\\core\\interactiveshell.py:310\u001b[0m, in \u001b[0;36m_modified_open\u001b[1;34m(file, *args, **kwargs)\u001b[0m\n\u001b[0;32m    303\u001b[0m \u001b[38;5;28;01mif\u001b[39;00m file \u001b[38;5;129;01min\u001b[39;00m {\u001b[38;5;241m0\u001b[39m, \u001b[38;5;241m1\u001b[39m, \u001b[38;5;241m2\u001b[39m}:\n\u001b[0;32m    304\u001b[0m     \u001b[38;5;28;01mraise\u001b[39;00m \u001b[38;5;167;01mValueError\u001b[39;00m(\n\u001b[0;32m    305\u001b[0m         \u001b[38;5;124mf\u001b[39m\u001b[38;5;124m\"\u001b[39m\u001b[38;5;124mIPython won\u001b[39m\u001b[38;5;124m'\u001b[39m\u001b[38;5;124mt let you open fd=\u001b[39m\u001b[38;5;132;01m{\u001b[39;00mfile\u001b[38;5;132;01m}\u001b[39;00m\u001b[38;5;124m by default \u001b[39m\u001b[38;5;124m\"\u001b[39m\n\u001b[0;32m    306\u001b[0m         \u001b[38;5;124m\"\u001b[39m\u001b[38;5;124mas it is likely to crash IPython. If you know what you are doing, \u001b[39m\u001b[38;5;124m\"\u001b[39m\n\u001b[0;32m    307\u001b[0m         \u001b[38;5;124m\"\u001b[39m\u001b[38;5;124myou can use builtins\u001b[39m\u001b[38;5;124m'\u001b[39m\u001b[38;5;124m open.\u001b[39m\u001b[38;5;124m\"\u001b[39m\n\u001b[0;32m    308\u001b[0m     )\n\u001b[1;32m--> 310\u001b[0m \u001b[38;5;28;01mreturn\u001b[39;00m \u001b[43mio_open\u001b[49m\u001b[43m(\u001b[49m\u001b[43mfile\u001b[49m\u001b[43m,\u001b[49m\u001b[43m \u001b[49m\u001b[38;5;241;43m*\u001b[39;49m\u001b[43margs\u001b[49m\u001b[43m,\u001b[49m\u001b[43m \u001b[49m\u001b[38;5;241;43m*\u001b[39;49m\u001b[38;5;241;43m*\u001b[39;49m\u001b[43mkwargs\u001b[49m\u001b[43m)\u001b[49m\n",
      "\u001b[1;31mFileNotFoundError\u001b[0m: [Errno 2] No such file or directory: 'chat\\\\WhatsApp Chat with Discussion.txt'"
     ]
    }
   ],
   "source": [
    "f = open('Users\\\\Acer\\\\OneDrive\\\\Desktop\\\\chat\\\\WhatsApp Chat with Discussion.txt', 'r', encoding='utf-8')"
   ]
  },
  {
   "cell_type": "code",
   "execution_count": 4,
   "id": "f2eb0e39-b485-411f-9478-524b19e3a5fa",
   "metadata": {},
   "outputs": [
    {
     "name": "stderr",
     "output_type": "stream",
     "text": [
      "<>:1: SyntaxWarning: invalid escape sequence '\\A'\n",
      "<>:1: SyntaxWarning: invalid escape sequence '\\A'\n",
      "C:\\Users\\Acer\\AppData\\Local\\Temp\\ipykernel_4276\\1259673.py:1: SyntaxWarning: invalid escape sequence '\\A'\n",
      "  data = f.read(\"Users\\Acer\\OneDrive\\Desktop\\chat\\WhatsApp Chat with Discussion.txt\")\n",
      "C:\\Users\\Acer\\AppData\\Local\\Temp\\ipykernel_4276\\1259673.py:1: SyntaxWarning: invalid escape sequence '\\A'\n",
      "  data = f.read(\"Users\\Acer\\OneDrive\\Desktop\\chat\\WhatsApp Chat with Discussion.txt\")\n"
     ]
    },
    {
     "ename": "NameError",
     "evalue": "name 'f' is not defined",
     "output_type": "error",
     "traceback": [
      "\u001b[1;31m---------------------------------------------------------------------------\u001b[0m",
      "\u001b[1;31mNameError\u001b[0m                                 Traceback (most recent call last)",
      "Cell \u001b[1;32mIn[4], line 1\u001b[0m\n\u001b[1;32m----> 1\u001b[0m data \u001b[38;5;241m=\u001b[39m \u001b[43mf\u001b[49m\u001b[38;5;241m.\u001b[39mread(\u001b[38;5;124m\"\u001b[39m\u001b[38;5;124mUsers\u001b[39m\u001b[38;5;124m\\\u001b[39m\u001b[38;5;124mAcer\u001b[39m\u001b[38;5;124m\\\u001b[39m\u001b[38;5;124mOneDrive\u001b[39m\u001b[38;5;124m\\\u001b[39m\u001b[38;5;124mDesktop\u001b[39m\u001b[38;5;124m\\\u001b[39m\u001b[38;5;124mchat\u001b[39m\u001b[38;5;124m\\\u001b[39m\u001b[38;5;124mWhatsApp Chat with Discussion.txt\u001b[39m\u001b[38;5;124m\"\u001b[39m)\n",
      "\u001b[1;31mNameError\u001b[0m: name 'f' is not defined"
     ]
    }
   ],
   "source": [
    "data = f.read(\"Users\\Acer\\OneDrive\\Desktop\\chat\\WhatsApp Chat with Discussion.txt\")"
   ]
  },
  {
   "cell_type": "code",
   "execution_count": null,
   "id": "078e7879-6e00-4a65-9703-fb159ff1809b",
   "metadata": {
    "scrolled": true
   },
   "outputs": [],
   "source": [
    "print(data)"
   ]
  },
  {
   "cell_type": "code",
   "execution_count": null,
   "id": "07cf1a54-6c6e-4137-ab98-301d4684f46d",
   "metadata": {},
   "outputs": [],
   "source": [
    "print(type(data))   # checking datatype. "
   ]
  },
  {
   "cell_type": "code",
   "execution_count": null,
   "id": "b3e41857-22f2-49e1-ba31-d60b54978ebc",
   "metadata": {},
   "outputs": [],
   "source": [
    "pattern = r'\\d{1,2}/\\d{1,2}/\\d{2,4},\\s\\d{1,2}:\\d{2}\\s-\\s'\n",
    "# ^d{1,2}\\/d{1,2}\\/d{1,2}, d{1,2}:d{1,2}\\s(?:AM|PM) - Nobo New: Oi$"
   ]
  },
  {
   "cell_type": "code",
   "execution_count": null,
   "id": "57a4db85-1a64-4177-9bce-bc97e6b8cdc6",
   "metadata": {},
   "outputs": [],
   "source": [
    "# def use_regex(input_text):\n",
    "#     pattern = re.compile(r\"10/14/23, 11:15 PM - \\+880 1824-777203: Only three pages\", re.IGNORECASE)\n",
    "#     return pattern.match(input_text)"
   ]
  },
  {
   "cell_type": "code",
   "execution_count": null,
   "id": "dc37ed97-d629-428d-8ea7-74338aa7a70d",
   "metadata": {},
   "outputs": [],
   "source": [
    "pattern"
   ]
  },
  {
   "cell_type": "markdown",
   "id": "2edc3773",
   "metadata": {},
   "source": [
    "Spliting message from the data"
   ]
  },
  {
   "cell_type": "code",
   "execution_count": null,
   "id": "21c17cd0-0f6c-492b-b334-3178b9223379",
   "metadata": {},
   "outputs": [],
   "source": [
    "messages = re.split(pattern, data)[1:]\n",
    "messages"
   ]
  },
  {
   "cell_type": "markdown",
   "id": "47fa62df",
   "metadata": {},
   "source": [
    "Spliting dates from the data"
   ]
  },
  {
   "cell_type": "code",
   "execution_count": null,
   "id": "97cf2c17-1386-4339-96e6-5d65ae6323b2",
   "metadata": {},
   "outputs": [],
   "source": [
    "dates = re.findall(pattern,data)\n",
    "dates"
   ]
  },
  {
   "cell_type": "code",
   "execution_count": null,
   "id": "ed9bf538-7e25-4ada-ba14-db655bed58c0",
   "metadata": {},
   "outputs": [],
   "source": [
    "print(len(messages), len(dates))       # total data of messages and dates. "
   ]
  },
  {
   "cell_type": "code",
   "execution_count": null,
   "id": "4861c684-590b-406a-8b52-48a8a7b7a595",
   "metadata": {},
   "outputs": [],
   "source": [
    "df = pd.DataFrame({'user_message': messages, 'message_date': dates})\n",
    "\n",
    "# convert message_date type\n",
    "df['message_date'] = pd.to_datetime(df['message_date'], format='%m/%d/%y, %H:%M - ')\n",
    "\n",
    "df.rename(columns={'message_date': 'date'}, inplace=True)\n",
    "\n",
    "df.head()   "
   ]
  },
  {
   "cell_type": "code",
   "execution_count": null,
   "id": "2947da67-0b20-4641-adcf-abbcfeae2cbe",
   "metadata": {},
   "outputs": [],
   "source": [
    "df.shape"
   ]
  },
  {
   "cell_type": "code",
   "execution_count": null,
   "id": "5d20989b-1fb5-4142-885c-37b960307b11",
   "metadata": {},
   "outputs": [],
   "source": [
    "# Check if 'user_message' is in the DataFrame columns\n",
    "users = []\n",
    "messages = []\n",
    "\n",
    "for message in df['user_message']:\n",
    "    entry = re.split('([\\\\w\\\\W]+?):\\\\s', message)\n",
    "    if entry[1:]:  # user name\n",
    "        users.append(entry[1])\n",
    "        messages.append(\" \".join(entry[2]))\n",
    "    else:\n",
    "        users.append('group_notification')\n",
    "        messages.append(entry[0])\n",
    "\n",
    "df['user'] = users\n",
    "df['message'] = messages\n",
    "df.drop(columns=['user_message'], inplace=True)\n",
    "\n",
    "# After preprocessing \n",
    "df.head()"
   ]
  },
  {
   "cell_type": "code",
   "execution_count": null,
   "id": "8c7d409d-8485-4c87-9fef-56689377e30c",
   "metadata": {},
   "outputs": [],
   "source": [
    "df['month'] = df['date'].dt.month_name()\n",
    "df['day'] = df['date'].dt.day\n",
    "df['hour'] = df['date'].dt.hour\n",
    "df['minute'] = df['date'].dt.minute"
   ]
  },
  {
   "cell_type": "code",
   "execution_count": null,
   "id": "2265cb62-85b7-4b33-b51e-272d67c4dced",
   "metadata": {},
   "outputs": [],
   "source": [
    "df.head()"
   ]
  },
  {
   "cell_type": "code",
   "execution_count": null,
   "id": "8232224e-55a4-4a2d-989a-ed879debb7d7",
   "metadata": {},
   "outputs": [],
   "source": []
  },
  {
   "cell_type": "code",
   "execution_count": null,
   "id": "03ffbf79-d6a6-4ed4-aa34-eaf010d5b8a8",
   "metadata": {},
   "outputs": [],
   "source": []
  }
 ],
 "metadata": {
  "kernelspec": {
   "display_name": "Python 3 (ipykernel)",
   "language": "python",
   "name": "python3"
  },
  "language_info": {
   "codemirror_mode": {
    "name": "ipython",
    "version": 3
   },
   "file_extension": ".py",
   "mimetype": "text/x-python",
   "name": "python",
   "nbconvert_exporter": "python",
   "pygments_lexer": "ipython3",
   "version": "3.12.0"
  }
 },
 "nbformat": 4,
 "nbformat_minor": 5
}
