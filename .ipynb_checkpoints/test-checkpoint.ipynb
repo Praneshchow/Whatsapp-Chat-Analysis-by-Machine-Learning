{
 "cells": [
  {
   "cell_type": "code",
   "execution_count": 606,
   "id": "4436e989-8d25-4eea-822e-6de23db1219e",
   "metadata": {
    "scrolled": true
   },
   "outputs": [],
   "source": [
    "import re\n",
    "import pandas as pd"
   ]
  },
  {
   "cell_type": "code",
   "execution_count": 607,
   "id": "43ece231-0854-40cb-b66a-41611da3497c",
   "metadata": {},
   "outputs": [],
   "source": [
    "f = open('WhatsApp Chat with Nobo New 1.txt', 'r', encoding='utf-8')"
   ]
  },
  {
   "cell_type": "code",
   "execution_count": 608,
   "id": "f2eb0e39-b485-411f-9478-524b19e3a5fa",
   "metadata": {},
   "outputs": [],
   "source": [
    "data = f.read()"
   ]
  },
  {
   "cell_type": "code",
   "execution_count": 609,
   "id": "078e7879-6e00-4a65-9703-fb159ff1809b",
   "metadata": {
    "scrolled": true
   },
   "outputs": [
    {
     "name": "stdout",
     "output_type": "stream",
     "text": [
      "3/17/23, 14:51 - Messages and calls are end-to-end encrypted. No one outside of this chat, not even WhatsApp, can read or listen to them. Tap to learn more.\n",
      "4/25/23, 00:51 - Messages and calls are end-to-end encrypted. No one outside of this chat, not even WhatsApp, can read or listen to them. Tap to learn more.\n",
      "4/25/23, 00:51 - Nobo New: Oi\n",
      "4/25/23, 00:51 - Nobo New: Shun\n",
      "4/25/23, 00:51 - Nobo New: Prapti\n",
      "4/25/23, 00:52 - Pranesh Chowdhury: Ha\n",
      "4/25/23, 00:52 - Pranesh Chowdhury: Ache\n",
      "4/25/23, 00:52 - Nobo New: Toke msg Di e\n",
      "4/25/23, 00:52 - Nobo New: Dibe\n",
      "4/25/23, 00:52 - Pranesh Chowdhury: 😳\n",
      "4/25/23, 00:52 - Nobo New: Amr FB theke\n",
      "4/25/23, 00:52 - Nobo New: Msg dibe\n",
      "4/25/23, 00:52 - Nobo New: Blbi je day GA dekhsos\n",
      "4/25/23, 00:52 - Nobo New: Tui\n",
      "4/25/23, 00:53 - Nobo New: Kisu blush na just blbi je day GA dekhsis\n",
      "4/25/23, 00:53 - Nobo New: Ta\n",
      "4/25/23, 00:53 - Nobo New: Kisu ask krle blbi je dekhsos\n",
      "4/25/23, 00:54 - Pranesh Chowdhury: GA bolte?\n",
      "4/25/23, 00:55 - Nobo New: Shun\n",
      "4/25/23, 00:55 - Nobo New: Toke ask krse tw\n",
      "4/25/23, 00:56 - Pranesh Chowdhury: Amak eta tui diso s\n",
      "4/25/23, 00:56 - Pranesh Chowdhury: Ki bolbo\n",
      "4/25/23, 00:56 - Pranesh Chowdhury: Vie\n",
      "4/25/23, 00:56 - Nobo New: Shun\n",
      "4/25/23, 00:56 - Pranesh Chowdhury: 😱😱😱\n",
      "4/25/23, 00:56 - Nobo New: Msg ta prapti\n",
      "4/25/23, 00:56 - Pranesh Chowdhury: Nananaaa\n",
      "4/25/23, 00:56 - Nobo New: Disa\n",
      "4/25/23, 00:56 - Nobo New: Tui bol je\n",
      "4/25/23, 00:56 - Nobo New: Oke just\n",
      "4/25/23, 00:56 - Nobo New: Ha dekhsos\n",
      "4/25/23, 00:56 - Nobo New: Day dekhsos\n",
      "4/25/23, 00:56 - Pranesh Chowdhury: Okk\n",
      "4/25/23, 00:56 - Nobo New: Aituku bol\n",
      "4/25/23, 00:56 - Nobo New: Just\n",
      "4/25/23, 00:57 - Nobo New: Kahini pore bolbo age vol je day dekhsos\n",
      "4/25/23, 00:58 - Nobo New: AR seen Krish na\n",
      "4/25/23, 00:58 - Nobo New: Msg\n",
      "4/25/23, 00:59 - Pranesh Chowdhury: Vie message dekhei buja jache eta tui na\n",
      "4/25/23, 00:59 - Pranesh Chowdhury: 🫠\n",
      "4/25/23, 01:02 - Pranesh Chowdhury: Acha, tor eta highlight Korbe bolteche j, vie story to highlights korte gele Jodi na pai\n",
      "4/25/23, 01:02 - Nobo New: Shub\n",
      "4/25/23, 01:02 - Nobo New: Toke ami\n",
      "4/25/23, 01:02 - Pranesh Chowdhury: 🫡\n",
      "4/25/23, 01:02 - Nobo New: Blbo Dekha hoile\n",
      "4/25/23, 01:02 - Nobo New: Apatoto seen Krish. A\n",
      "4/25/23, 01:02 - Nobo New: Na\n",
      "4/25/23, 01:02 - Nobo New: Shob natok aigula\n",
      "4/25/23, 01:02 - Pranesh Chowdhury: Acha\n",
      "4/25/23, 01:03 - Pranesh Chowdhury: Vie arektu age what's app na dekle to shes\n",
      "4/25/23, 01:04 - Pranesh Chowdhury: 😅\n",
      "4/25/23, 01:07 - Nobo New: Bachaisos tui amk\n",
      "4/25/23, 01:07 - Nobo New: Vhai\n",
      "4/25/23, 01:07 - Pranesh Chowdhury: It's OK vie\n",
      "4/25/23, 01:08 - Pranesh Chowdhury: 😂\n",
      "4/26/23, 18:33 - Pranesh Chowdhury: Nobo\n",
      "4/26/23, 18:33 - Pranesh Chowdhury: Computer graphics er note gulo dis to\n",
      "4/26/23, 22:53 - Nobo New: Ok\n",
      "4/26/23, 22:58 - Nobo New: Disi dekh\n",
      "4/26/23, 22:58 - Nobo New: Mail a\n",
      "4/26/23, 22:58 - Pranesh Chowdhury: Acha, thanks vie\n",
      "4/28/23, 20:51 - Nobo New: <Media omitted>\n",
      "6/12/23, 08:43 - Nobo New: Ber ho\n",
      "6/12/23, 08:43 - Nobo New: Pranesh\n",
      "6/12/23, 08:49 - Pranesh Chowdhury: Ami niche\n",
      "6/12/23, 08:49 - Pranesh Chowdhury: Ache\n",
      "\n"
     ]
    }
   ],
   "source": [
    "print(data)"
   ]
  },
  {
   "cell_type": "code",
   "execution_count": 610,
   "id": "07cf1a54-6c6e-4137-ab98-301d4684f46d",
   "metadata": {},
   "outputs": [
    {
     "name": "stdout",
     "output_type": "stream",
     "text": [
      "<class 'str'>\n"
     ]
    }
   ],
   "source": [
    "print(type(data))"
   ]
  },
  {
   "cell_type": "code",
   "execution_count": 611,
   "id": "b3e41857-22f2-49e1-ba31-d60b54978ebc",
   "metadata": {},
   "outputs": [],
   "source": [
    "pattern = r'\\d{1,2}/\\d{1,2}/\\d{2,4},\\s\\d{1,2}:\\d{2}\\s-\\s'\n",
    "# ^d{1,2}\\/d{1,2}\\/d{1,2}, d{1,2}:d{1,2}\\s(?:AM|PM) - Nobo New: Oi$"
   ]
  },
  {
   "cell_type": "code",
   "execution_count": 612,
   "id": "57a4db85-1a64-4177-9bce-bc97e6b8cdc6",
   "metadata": {},
   "outputs": [],
   "source": [
    "# def use_regex(input_text):\n",
    "#     pattern = re.compile(r\"10/14/23, 11:15 PM - \\+880 1824-777203: Only three pages\", re.IGNORECASE)\n",
    "#     return pattern.match(input_text)"
   ]
  },
  {
   "cell_type": "code",
   "execution_count": 613,
   "id": "dc37ed97-d629-428d-8ea7-74338aa7a70d",
   "metadata": {},
   "outputs": [
    {
     "data": {
      "text/plain": [
       "'\\\\d{1,2}/\\\\d{1,2}/\\\\d{2,4},\\\\s\\\\d{1,2}:\\\\d{2}\\\\s-\\\\s'"
      ]
     },
     "execution_count": 613,
     "metadata": {},
     "output_type": "execute_result"
    }
   ],
   "source": [
    "pattern"
   ]
  },
  {
   "cell_type": "code",
   "execution_count": 614,
   "id": "21c17cd0-0f6c-492b-b334-3178b9223379",
   "metadata": {},
   "outputs": [
    {
     "data": {
      "text/plain": [
       "['Messages and calls are end-to-end encrypted. No one outside of this chat, not even WhatsApp, can read or listen to them. Tap to learn more.\\n',\n",
       " 'Messages and calls are end-to-end encrypted. No one outside of this chat, not even WhatsApp, can read or listen to them. Tap to learn more.\\n',\n",
       " 'Nobo New: Oi\\n',\n",
       " 'Nobo New: Shun\\n',\n",
       " 'Nobo New: Prapti\\n',\n",
       " 'Pranesh Chowdhury: Ha\\n',\n",
       " 'Pranesh Chowdhury: Ache\\n',\n",
       " 'Nobo New: Toke msg Di e\\n',\n",
       " 'Nobo New: Dibe\\n',\n",
       " 'Pranesh Chowdhury: 😳\\n',\n",
       " 'Nobo New: Amr FB theke\\n',\n",
       " 'Nobo New: Msg dibe\\n',\n",
       " 'Nobo New: Blbi je day GA dekhsos\\n',\n",
       " 'Nobo New: Tui\\n',\n",
       " 'Nobo New: Kisu blush na just blbi je day GA dekhsis\\n',\n",
       " 'Nobo New: Ta\\n',\n",
       " 'Nobo New: Kisu ask krle blbi je dekhsos\\n',\n",
       " 'Pranesh Chowdhury: GA bolte?\\n',\n",
       " 'Nobo New: Shun\\n',\n",
       " 'Nobo New: Toke ask krse tw\\n',\n",
       " 'Pranesh Chowdhury: Amak eta tui diso s\\n',\n",
       " 'Pranesh Chowdhury: Ki bolbo\\n',\n",
       " 'Pranesh Chowdhury: Vie\\n',\n",
       " 'Nobo New: Shun\\n',\n",
       " 'Pranesh Chowdhury: 😱😱😱\\n',\n",
       " 'Nobo New: Msg ta prapti\\n',\n",
       " 'Pranesh Chowdhury: Nananaaa\\n',\n",
       " 'Nobo New: Disa\\n',\n",
       " 'Nobo New: Tui bol je\\n',\n",
       " 'Nobo New: Oke just\\n',\n",
       " 'Nobo New: Ha dekhsos\\n',\n",
       " 'Nobo New: Day dekhsos\\n',\n",
       " 'Pranesh Chowdhury: Okk\\n',\n",
       " 'Nobo New: Aituku bol\\n',\n",
       " 'Nobo New: Just\\n',\n",
       " 'Nobo New: Kahini pore bolbo age vol je day dekhsos\\n',\n",
       " 'Nobo New: AR seen Krish na\\n',\n",
       " 'Nobo New: Msg\\n',\n",
       " 'Pranesh Chowdhury: Vie message dekhei buja jache eta tui na\\n',\n",
       " 'Pranesh Chowdhury: 🫠\\n',\n",
       " 'Pranesh Chowdhury: Acha, tor eta highlight Korbe bolteche j, vie story to highlights korte gele Jodi na pai\\n',\n",
       " 'Nobo New: Shub\\n',\n",
       " 'Nobo New: Toke ami\\n',\n",
       " 'Pranesh Chowdhury: 🫡\\n',\n",
       " 'Nobo New: Blbo Dekha hoile\\n',\n",
       " 'Nobo New: Apatoto seen Krish. A\\n',\n",
       " 'Nobo New: Na\\n',\n",
       " 'Nobo New: Shob natok aigula\\n',\n",
       " 'Pranesh Chowdhury: Acha\\n',\n",
       " \"Pranesh Chowdhury: Vie arektu age what's app na dekle to shes\\n\",\n",
       " 'Pranesh Chowdhury: 😅\\n',\n",
       " 'Nobo New: Bachaisos tui amk\\n',\n",
       " 'Nobo New: Vhai\\n',\n",
       " \"Pranesh Chowdhury: It's OK vie\\n\",\n",
       " 'Pranesh Chowdhury: 😂\\n',\n",
       " 'Pranesh Chowdhury: Nobo\\n',\n",
       " 'Pranesh Chowdhury: Computer graphics er note gulo dis to\\n',\n",
       " 'Nobo New: Ok\\n',\n",
       " 'Nobo New: Disi dekh\\n',\n",
       " 'Nobo New: Mail a\\n',\n",
       " 'Pranesh Chowdhury: Acha, thanks vie\\n',\n",
       " 'Nobo New: <Media omitted>\\n',\n",
       " 'Nobo New: Ber ho\\n',\n",
       " 'Nobo New: Pranesh\\n',\n",
       " 'Pranesh Chowdhury: Ami niche\\n',\n",
       " 'Pranesh Chowdhury: Ache\\n']"
      ]
     },
     "execution_count": 614,
     "metadata": {},
     "output_type": "execute_result"
    }
   ],
   "source": [
    "messages = re.split(pattern, data)[1:]\n",
    "messages"
   ]
  },
  {
   "cell_type": "code",
   "execution_count": 615,
   "id": "97cf2c17-1386-4339-96e6-5d65ae6323b2",
   "metadata": {},
   "outputs": [
    {
     "data": {
      "text/plain": [
       "['3/17/23, 14:51 - ',\n",
       " '4/25/23, 00:51 - ',\n",
       " '4/25/23, 00:51 - ',\n",
       " '4/25/23, 00:51 - ',\n",
       " '4/25/23, 00:51 - ',\n",
       " '4/25/23, 00:52 - ',\n",
       " '4/25/23, 00:52 - ',\n",
       " '4/25/23, 00:52 - ',\n",
       " '4/25/23, 00:52 - ',\n",
       " '4/25/23, 00:52 - ',\n",
       " '4/25/23, 00:52 - ',\n",
       " '4/25/23, 00:52 - ',\n",
       " '4/25/23, 00:52 - ',\n",
       " '4/25/23, 00:52 - ',\n",
       " '4/25/23, 00:53 - ',\n",
       " '4/25/23, 00:53 - ',\n",
       " '4/25/23, 00:53 - ',\n",
       " '4/25/23, 00:54 - ',\n",
       " '4/25/23, 00:55 - ',\n",
       " '4/25/23, 00:55 - ',\n",
       " '4/25/23, 00:56 - ',\n",
       " '4/25/23, 00:56 - ',\n",
       " '4/25/23, 00:56 - ',\n",
       " '4/25/23, 00:56 - ',\n",
       " '4/25/23, 00:56 - ',\n",
       " '4/25/23, 00:56 - ',\n",
       " '4/25/23, 00:56 - ',\n",
       " '4/25/23, 00:56 - ',\n",
       " '4/25/23, 00:56 - ',\n",
       " '4/25/23, 00:56 - ',\n",
       " '4/25/23, 00:56 - ',\n",
       " '4/25/23, 00:56 - ',\n",
       " '4/25/23, 00:56 - ',\n",
       " '4/25/23, 00:56 - ',\n",
       " '4/25/23, 00:56 - ',\n",
       " '4/25/23, 00:57 - ',\n",
       " '4/25/23, 00:58 - ',\n",
       " '4/25/23, 00:58 - ',\n",
       " '4/25/23, 00:59 - ',\n",
       " '4/25/23, 00:59 - ',\n",
       " '4/25/23, 01:02 - ',\n",
       " '4/25/23, 01:02 - ',\n",
       " '4/25/23, 01:02 - ',\n",
       " '4/25/23, 01:02 - ',\n",
       " '4/25/23, 01:02 - ',\n",
       " '4/25/23, 01:02 - ',\n",
       " '4/25/23, 01:02 - ',\n",
       " '4/25/23, 01:02 - ',\n",
       " '4/25/23, 01:02 - ',\n",
       " '4/25/23, 01:03 - ',\n",
       " '4/25/23, 01:04 - ',\n",
       " '4/25/23, 01:07 - ',\n",
       " '4/25/23, 01:07 - ',\n",
       " '4/25/23, 01:07 - ',\n",
       " '4/25/23, 01:08 - ',\n",
       " '4/26/23, 18:33 - ',\n",
       " '4/26/23, 18:33 - ',\n",
       " '4/26/23, 22:53 - ',\n",
       " '4/26/23, 22:58 - ',\n",
       " '4/26/23, 22:58 - ',\n",
       " '4/26/23, 22:58 - ',\n",
       " '4/28/23, 20:51 - ',\n",
       " '6/12/23, 08:43 - ',\n",
       " '6/12/23, 08:43 - ',\n",
       " '6/12/23, 08:49 - ',\n",
       " '6/12/23, 08:49 - ']"
      ]
     },
     "execution_count": 615,
     "metadata": {},
     "output_type": "execute_result"
    }
   ],
   "source": [
    "dates = re.findall(pattern,data)\n",
    "dates"
   ]
  },
  {
   "cell_type": "code",
   "execution_count": 616,
   "id": "ed9bf538-7e25-4ada-ba14-db655bed58c0",
   "metadata": {},
   "outputs": [
    {
     "name": "stdout",
     "output_type": "stream",
     "text": [
      "66 66\n"
     ]
    }
   ],
   "source": [
    "print(len(messages), len(dates))"
   ]
  },
  {
   "cell_type": "code",
   "execution_count": 617,
   "id": "4861c684-590b-406a-8b52-48a8a7b7a595",
   "metadata": {},
   "outputs": [
    {
     "data": {
      "text/html": [
       "<div>\n",
       "<style scoped>\n",
       "    .dataframe tbody tr th:only-of-type {\n",
       "        vertical-align: middle;\n",
       "    }\n",
       "\n",
       "    .dataframe tbody tr th {\n",
       "        vertical-align: top;\n",
       "    }\n",
       "\n",
       "    .dataframe thead th {\n",
       "        text-align: right;\n",
       "    }\n",
       "</style>\n",
       "<table border=\"1\" class=\"dataframe\">\n",
       "  <thead>\n",
       "    <tr style=\"text-align: right;\">\n",
       "      <th></th>\n",
       "      <th>user_message</th>\n",
       "      <th>date</th>\n",
       "    </tr>\n",
       "  </thead>\n",
       "  <tbody>\n",
       "    <tr>\n",
       "      <th>0</th>\n",
       "      <td>Messages and calls are end-to-end encrypted. N...</td>\n",
       "      <td>2023-03-17 14:51:00</td>\n",
       "    </tr>\n",
       "    <tr>\n",
       "      <th>1</th>\n",
       "      <td>Messages and calls are end-to-end encrypted. N...</td>\n",
       "      <td>2023-04-25 00:51:00</td>\n",
       "    </tr>\n",
       "    <tr>\n",
       "      <th>2</th>\n",
       "      <td>Nobo New: Oi\\n</td>\n",
       "      <td>2023-04-25 00:51:00</td>\n",
       "    </tr>\n",
       "    <tr>\n",
       "      <th>3</th>\n",
       "      <td>Nobo New: Shun\\n</td>\n",
       "      <td>2023-04-25 00:51:00</td>\n",
       "    </tr>\n",
       "    <tr>\n",
       "      <th>4</th>\n",
       "      <td>Nobo New: Prapti\\n</td>\n",
       "      <td>2023-04-25 00:51:00</td>\n",
       "    </tr>\n",
       "  </tbody>\n",
       "</table>\n",
       "</div>"
      ],
      "text/plain": [
       "                                        user_message                date\n",
       "0  Messages and calls are end-to-end encrypted. N... 2023-03-17 14:51:00\n",
       "1  Messages and calls are end-to-end encrypted. N... 2023-04-25 00:51:00\n",
       "2                                     Nobo New: Oi\\n 2023-04-25 00:51:00\n",
       "3                                   Nobo New: Shun\\n 2023-04-25 00:51:00\n",
       "4                                 Nobo New: Prapti\\n 2023-04-25 00:51:00"
      ]
     },
     "execution_count": 617,
     "metadata": {},
     "output_type": "execute_result"
    }
   ],
   "source": [
    "df = pd.DataFrame({'user_message': messages, 'message_date': dates})\n",
    "\n",
    "# convert message_date type\n",
    "df['message_date'] = pd.to_datetime(df['message_date'], format='%m/%d/%y, %H:%M - ')\n",
    "\n",
    "df.rename(columns={'message_date': 'date'}, inplace=True)\n",
    "\n",
    "df.head()"
   ]
  },
  {
   "cell_type": "code",
   "execution_count": 618,
   "id": "2947da67-0b20-4641-adcf-abbcfeae2cbe",
   "metadata": {},
   "outputs": [
    {
     "data": {
      "text/plain": [
       "(66, 2)"
      ]
     },
     "execution_count": 618,
     "metadata": {},
     "output_type": "execute_result"
    }
   ],
   "source": [
    "df.shape"
   ]
  },
  {
   "cell_type": "code",
   "execution_count": 619,
   "id": "5d20989b-1fb5-4142-885c-37b960307b11",
   "metadata": {},
   "outputs": [
    {
     "name": "stderr",
     "output_type": "stream",
     "text": [
      "<>:6: SyntaxWarning: invalid escape sequence '\\w'\n",
      "<>:6: SyntaxWarning: invalid escape sequence '\\w'\n",
      "C:\\Users\\Acer\\AppData\\Local\\Temp\\ipykernel_11332\\2221554432.py:6: SyntaxWarning: invalid escape sequence '\\w'\n",
      "  entry = re.split('([\\w\\W]+?):\\s', message)\n"
     ]
    },
    {
     "data": {
      "text/html": [
       "<div>\n",
       "<style scoped>\n",
       "    .dataframe tbody tr th:only-of-type {\n",
       "        vertical-align: middle;\n",
       "    }\n",
       "\n",
       "    .dataframe tbody tr th {\n",
       "        vertical-align: top;\n",
       "    }\n",
       "\n",
       "    .dataframe thead th {\n",
       "        text-align: right;\n",
       "    }\n",
       "</style>\n",
       "<table border=\"1\" class=\"dataframe\">\n",
       "  <thead>\n",
       "    <tr style=\"text-align: right;\">\n",
       "      <th></th>\n",
       "      <th>date</th>\n",
       "      <th>user</th>\n",
       "      <th>message</th>\n",
       "    </tr>\n",
       "  </thead>\n",
       "  <tbody>\n",
       "    <tr>\n",
       "      <th>0</th>\n",
       "      <td>2023-03-17 14:51:00</td>\n",
       "      <td>group_notification</td>\n",
       "      <td>Messages and calls are end-to-end encrypted. N...</td>\n",
       "    </tr>\n",
       "    <tr>\n",
       "      <th>1</th>\n",
       "      <td>2023-04-25 00:51:00</td>\n",
       "      <td>group_notification</td>\n",
       "      <td>Messages and calls are end-to-end encrypted. N...</td>\n",
       "    </tr>\n",
       "    <tr>\n",
       "      <th>2</th>\n",
       "      <td>2023-04-25 00:51:00</td>\n",
       "      <td>Nobo New</td>\n",
       "      <td>O i \\n</td>\n",
       "    </tr>\n",
       "    <tr>\n",
       "      <th>3</th>\n",
       "      <td>2023-04-25 00:51:00</td>\n",
       "      <td>Nobo New</td>\n",
       "      <td>S h u n \\n</td>\n",
       "    </tr>\n",
       "    <tr>\n",
       "      <th>4</th>\n",
       "      <td>2023-04-25 00:51:00</td>\n",
       "      <td>Nobo New</td>\n",
       "      <td>P r a p t i \\n</td>\n",
       "    </tr>\n",
       "  </tbody>\n",
       "</table>\n",
       "</div>"
      ],
      "text/plain": [
       "                 date                user  \\\n",
       "0 2023-03-17 14:51:00  group_notification   \n",
       "1 2023-04-25 00:51:00  group_notification   \n",
       "2 2023-04-25 00:51:00            Nobo New   \n",
       "3 2023-04-25 00:51:00            Nobo New   \n",
       "4 2023-04-25 00:51:00            Nobo New   \n",
       "\n",
       "                                             message  \n",
       "0  Messages and calls are end-to-end encrypted. N...  \n",
       "1  Messages and calls are end-to-end encrypted. N...  \n",
       "2                                             O i \\n  \n",
       "3                                         S h u n \\n  \n",
       "4                                     P r a p t i \\n  "
      ]
     },
     "execution_count": 619,
     "metadata": {},
     "output_type": "execute_result"
    }
   ],
   "source": [
    "# Check if 'user_message' is in the DataFrame columns\n",
    "users = []\n",
    "messages = []\n",
    "\n",
    "for message in df['user_message']:\n",
    "    entry = re.split('([\\\\w\\\\W]+?):\\\\s', message)\n",
    "    if entry[1:]:  # user name\n",
    "        users.append(entry[1])\n",
    "        messages.append(\" \".join(entry[2]))\n",
    "    else:\n",
    "        users.append('group_notification')\n",
    "        messages.append(entry[0])\n",
    "\n",
    "df['user'] = users\n",
    "df['message'] = messages\n",
    "df.drop(columns=['user_message'], inplace=True)\n",
    "\n",
    "# After preprocessing \n",
    "df.head()"
   ]
  },
  {
   "cell_type": "code",
   "execution_count": 620,
   "id": "8c7d409d-8485-4c87-9fef-56689377e30c",
   "metadata": {},
   "outputs": [],
   "source": [
    "df['month'] = df['date'].dt.month_name()\n",
    "df['day'] = df['date'].dt.day\n",
    "df['hour'] = df['date'].dt.hour\n",
    "df['minute'] = df['date'].dt.minute"
   ]
  },
  {
   "cell_type": "code",
   "execution_count": 621,
   "id": "2265cb62-85b7-4b33-b51e-272d67c4dced",
   "metadata": {},
   "outputs": [
    {
     "data": {
      "text/html": [
       "<div>\n",
       "<style scoped>\n",
       "    .dataframe tbody tr th:only-of-type {\n",
       "        vertical-align: middle;\n",
       "    }\n",
       "\n",
       "    .dataframe tbody tr th {\n",
       "        vertical-align: top;\n",
       "    }\n",
       "\n",
       "    .dataframe thead th {\n",
       "        text-align: right;\n",
       "    }\n",
       "</style>\n",
       "<table border=\"1\" class=\"dataframe\">\n",
       "  <thead>\n",
       "    <tr style=\"text-align: right;\">\n",
       "      <th></th>\n",
       "      <th>date</th>\n",
       "      <th>user</th>\n",
       "      <th>message</th>\n",
       "      <th>month</th>\n",
       "      <th>day</th>\n",
       "      <th>hour</th>\n",
       "      <th>minute</th>\n",
       "    </tr>\n",
       "  </thead>\n",
       "  <tbody>\n",
       "    <tr>\n",
       "      <th>0</th>\n",
       "      <td>2023-03-17 14:51:00</td>\n",
       "      <td>group_notification</td>\n",
       "      <td>Messages and calls are end-to-end encrypted. N...</td>\n",
       "      <td>March</td>\n",
       "      <td>17</td>\n",
       "      <td>14</td>\n",
       "      <td>51</td>\n",
       "    </tr>\n",
       "    <tr>\n",
       "      <th>1</th>\n",
       "      <td>2023-04-25 00:51:00</td>\n",
       "      <td>group_notification</td>\n",
       "      <td>Messages and calls are end-to-end encrypted. N...</td>\n",
       "      <td>April</td>\n",
       "      <td>25</td>\n",
       "      <td>0</td>\n",
       "      <td>51</td>\n",
       "    </tr>\n",
       "    <tr>\n",
       "      <th>2</th>\n",
       "      <td>2023-04-25 00:51:00</td>\n",
       "      <td>Nobo New</td>\n",
       "      <td>O i \\n</td>\n",
       "      <td>April</td>\n",
       "      <td>25</td>\n",
       "      <td>0</td>\n",
       "      <td>51</td>\n",
       "    </tr>\n",
       "    <tr>\n",
       "      <th>3</th>\n",
       "      <td>2023-04-25 00:51:00</td>\n",
       "      <td>Nobo New</td>\n",
       "      <td>S h u n \\n</td>\n",
       "      <td>April</td>\n",
       "      <td>25</td>\n",
       "      <td>0</td>\n",
       "      <td>51</td>\n",
       "    </tr>\n",
       "    <tr>\n",
       "      <th>4</th>\n",
       "      <td>2023-04-25 00:51:00</td>\n",
       "      <td>Nobo New</td>\n",
       "      <td>P r a p t i \\n</td>\n",
       "      <td>April</td>\n",
       "      <td>25</td>\n",
       "      <td>0</td>\n",
       "      <td>51</td>\n",
       "    </tr>\n",
       "  </tbody>\n",
       "</table>\n",
       "</div>"
      ],
      "text/plain": [
       "                 date                user  \\\n",
       "0 2023-03-17 14:51:00  group_notification   \n",
       "1 2023-04-25 00:51:00  group_notification   \n",
       "2 2023-04-25 00:51:00            Nobo New   \n",
       "3 2023-04-25 00:51:00            Nobo New   \n",
       "4 2023-04-25 00:51:00            Nobo New   \n",
       "\n",
       "                                             message  month  day  hour  minute  \n",
       "0  Messages and calls are end-to-end encrypted. N...  March   17    14      51  \n",
       "1  Messages and calls are end-to-end encrypted. N...  April   25     0      51  \n",
       "2                                             O i \\n  April   25     0      51  \n",
       "3                                         S h u n \\n  April   25     0      51  \n",
       "4                                     P r a p t i \\n  April   25     0      51  "
      ]
     },
     "execution_count": 621,
     "metadata": {},
     "output_type": "execute_result"
    }
   ],
   "source": [
    "df.head()"
   ]
  },
  {
   "cell_type": "code",
   "execution_count": null,
   "id": "8232224e-55a4-4a2d-989a-ed879debb7d7",
   "metadata": {},
   "outputs": [],
   "source": []
  },
  {
   "cell_type": "code",
   "execution_count": null,
   "id": "03ffbf79-d6a6-4ed4-aa34-eaf010d5b8a8",
   "metadata": {},
   "outputs": [],
   "source": []
  }
 ],
 "metadata": {
  "kernelspec": {
   "display_name": "Python 3 (ipykernel)",
   "language": "python",
   "name": "python3"
  },
  "language_info": {
   "codemirror_mode": {
    "name": "ipython",
    "version": 3
   },
   "file_extension": ".py",
   "mimetype": "text/x-python",
   "name": "python",
   "nbconvert_exporter": "python",
   "pygments_lexer": "ipython3",
   "version": "3.12.0"
  }
 },
 "nbformat": 4,
 "nbformat_minor": 5
}
